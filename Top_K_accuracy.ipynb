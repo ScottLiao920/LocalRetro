{
 "cells": [
  {
   "cell_type": "code",
   "execution_count": 19,
   "metadata": {},
   "outputs": [],
   "source": [
    "import pandas as pd\n",
    "from LocalTemplate.template_decoder import *\n",
    "import pickle\n",
    "dataset = 'USPTO_50K'\n",
    "test_file = pd.read_csv('data/%s/raw_test.csv' % dataset)"
   ]
  },
  {
   "cell_type": "code",
   "execution_count": 13,
   "metadata": {},
   "outputs": [],
   "source": [
    "rxn_ps = [rxn.split('>>')[1] for rxn in test_file['reactants>reagents>production']]"
   ]
  },
  {
   "cell_type": "code",
   "execution_count": 14,
   "metadata": {},
   "outputs": [],
   "source": [
    "ground_truth = [demap(Chem.MolFromSmiles(rxn.split('>>')[0])) for rxn in test_file['reactants>reagents>production']]\n",
    "ground_truth_MaxFrag = [get_MaxFrag(g) for g in ground_truth]"
   ]
  },
  {
   "cell_type": "code",
   "execution_count": 53,
   "metadata": {},
   "outputs": [],
   "source": [
    "class_given = False\n",
    "\n",
    "result_dir = 'outputs/decoded_prediction' \n",
    "if class_given:\n",
    "    result_dir += '_class'\n",
    "\n",
    "result_file = '%s/LocalRetro_%s.txt' % (result_dir, dataset)\n",
    "\n",
    "results = {}       \n",
    "results_MaxFrag = {}\n",
    "with open(result_file, 'r') as f:\n",
    "    for i, line in enumerate(f.readlines()):\n",
    "        line = line.split('\\n')[0]\n",
    "        i = int(line.split('\\t')[0])\n",
    "        predictions = line.split('\\t')[1:]\n",
    "        MaxFrags = []\n",
    "        results[i] = [eval(p)[0] for p in predictions]\n",
    "        for p in results[i]:\n",
    "            if p not in MaxFrags:\n",
    "                MaxFrags.append(get_MaxFrag(p))\n",
    "        results_MaxFrag[i] = MaxFrags"
   ]
  },
  {
   "cell_type": "code",
   "execution_count": 22,
   "metadata": {},
   "outputs": [],
   "source": [
    "with open(result_file, 'r') as f:\n",
    "    for i, line in enumerate(f.readlines()):\n",
    "        line = line.split('\\n')[0]\n",
    "        i = int(line.split('\\t')[0])\n",
    "        predictions = line.split('\\t')[1:]\n",
    "        break"
   ]
  },
  {
   "cell_type": "code",
   "execution_count": 5,
   "metadata": {},
   "outputs": [
    {
     "name": "stdout",
     "output_type": "stream",
     "text": [
      "Calculating accuracy... 5000/5007"
     ]
    }
   ],
   "source": [
    "stereo_aware = False\n",
    "\n",
    "Exact_matches = []\n",
    "MaxFrag_matches = [] # Only compares the largest reactant fragment\n",
    "\n",
    "Exact_matches_multi = []\n",
    "MaxFrag_matches_multi = [] \n",
    "for i in range(len(results)):\n",
    "    if stereo_aware:\n",
    "        metric = isomer_match\n",
    "    else:\n",
    "        metric = exact_match\n",
    "    match_exact = metric(results[i], ground_truth[i])\n",
    "    match_maxfrag = metric(results_MaxFrag[i], ground_truth_MaxFrag[i])\n",
    "    if len(rxn_ps[i].split('.')) > 1:\n",
    "        Exact_matches_multi.append(match_exact)\n",
    "        MaxFrag_matches_multi.append(match_maxfrag)\n",
    "    Exact_matches.append(match_exact)\n",
    "    MaxFrag_matches.append(match_maxfrag)\n",
    "    if i % 100 == 0:\n",
    "        print ('\\rCalculating accuracy... %s/%s' % (i, len(results)), end='', flush=True)"
   ]
  },
  {
   "cell_type": "code",
   "execution_count": 6,
   "metadata": {},
   "outputs": [
    {
     "name": "stdout",
     "output_type": "stream",
     "text": [
      "5007\n",
      "Top-1 Exact accuracy: 0.549, MaxFrag accuracy: 0.593\n",
      "Top-3 Exact accuracy: 0.772, MaxFrag accuracy: 0.811\n",
      "Top-5 Exact accuracy: 0.845, MaxFrag accuracy: 0.874\n",
      "Top-10 Exact accuracy: 0.903, MaxFrag accuracy: 0.924\n",
      "Top-50 Exact accuracy: 0.959, MaxFrag accuracy: 0.967\n"
     ]
    }
   ],
   "source": [
    "# Stereo-unaware\n",
    "ks = [1, 3, 5, 10, 50]\n",
    "exact_k = {k:0 for k in ks}\n",
    "MaxFrag_k = {k:0 for k in ks}\n",
    "\n",
    "print(len(Exact_matches))\n",
    "for i in range(len(Exact_matches)):\n",
    "    for k in ks:\n",
    "        if Exact_matches[i] <= k and Exact_matches[i] != -1:\n",
    "            exact_k[k] += 1\n",
    "        if MaxFrag_matches[i] <= k and MaxFrag_matches[i] != -1:\n",
    "            MaxFrag_k[k] += 1\n",
    "\n",
    "for k in ks:\n",
    "    print ('Top-%d Exact accuracy: %.3f, MaxFrag accuracy: %.3f' % (k, exact_k[k]/len(Exact_matches), MaxFrag_k[k]/len(MaxFrag_matches)))"
   ]
  },
  {
   "cell_type": "code",
   "execution_count": 7,
   "metadata": {},
   "outputs": [
    {
     "name": "stdout",
     "output_type": "stream",
     "text": [
      "Calculating accuracy... 0/5007"
     ]
    },
    {
     "name": "stdout",
     "output_type": "stream",
     "text": [
      "Calculating accuracy... 5000/5007"
     ]
    }
   ],
   "source": [
    "stereo_aware = True\n",
    "\n",
    "Exact_matches = []\n",
    "MaxFrag_matches = [] # Only compares the largest reactant fragment\n",
    "\n",
    "Exact_matches_multi = []\n",
    "MaxFrag_matches_multi = [] \n",
    "for i in range(len(results)):\n",
    "    if stereo_aware:\n",
    "        metric = isomer_match\n",
    "    else:\n",
    "        metric = exact_match\n",
    "    match_exact = metric(results[i], ground_truth[i])\n",
    "    match_maxfrag = metric(results_MaxFrag[i], ground_truth_MaxFrag[i])\n",
    "    if len(rxn_ps[i].split('.')) > 1:\n",
    "        Exact_matches_multi.append(match_exact)\n",
    "        MaxFrag_matches_multi.append(match_maxfrag)\n",
    "    Exact_matches.append(match_exact)\n",
    "    MaxFrag_matches.append(match_maxfrag)\n",
    "    if i % 100 == 0:\n",
    "        print ('\\rCalculating accuracy... %s/%s' % (i, len(results)), end='', flush=True)"
   ]
  },
  {
   "cell_type": "code",
   "execution_count": 8,
   "metadata": {},
   "outputs": [
    {
     "name": "stdout",
     "output_type": "stream",
     "text": [
      "5007\n",
      "Top-1 Exact accuracy: 0.561, MaxFrag accuracy: 0.602\n",
      "Top-3 Exact accuracy: 0.789, MaxFrag accuracy: 0.825\n",
      "Top-5 Exact accuracy: 0.864, MaxFrag accuracy: 0.889\n",
      "Top-10 Exact accuracy: 0.923, MaxFrag accuracy: 0.940\n",
      "Top-50 Exact accuracy: 0.981, MaxFrag accuracy: 0.986\n"
     ]
    }
   ],
   "source": [
    "# Stereo-aware\n",
    "ks = [1, 3, 5, 10, 50]\n",
    "exact_k = {k:0 for k in ks}\n",
    "MaxFrag_k = {k:0 for k in ks}\n",
    "\n",
    "print(len(Exact_matches))\n",
    "for i in range(len(Exact_matches)):\n",
    "    for k in ks:\n",
    "        if Exact_matches[i] <= k and Exact_matches[i] != -1:\n",
    "            exact_k[k] += 1\n",
    "        if MaxFrag_matches[i] <= k and MaxFrag_matches[i] != -1:\n",
    "            MaxFrag_k[k] += 1\n",
    "\n",
    "for k in ks:\n",
    "    print ('Top-%d Exact accuracy: %.3f, MaxFrag accuracy: %.3f' % (k, exact_k[k]/len(Exact_matches), MaxFrag_k[k]/len(MaxFrag_matches)))"
   ]
  },
  {
   "cell_type": "markdown",
   "metadata": {},
   "source": [
    "### On LLM results"
   ]
  },
  {
   "cell_type": "code",
   "execution_count": 35,
   "metadata": {},
   "outputs": [],
   "source": [
    "import re"
   ]
  },
  {
   "cell_type": "code",
   "execution_count": 71,
   "metadata": {},
   "outputs": [
    {
     "data": {
      "text/plain": [
       "1000"
      ]
     },
     "execution_count": 71,
     "metadata": {},
     "output_type": "execute_result"
    }
   ],
   "source": [
    "llm_output = pickle.load(open('/root/Projects/LLM4Retro/finetuned_llm_uspto_50k_test.pkl', 'rb'))\n",
    "len(llm_output)"
   ]
  },
  {
   "cell_type": "code",
   "execution_count": 72,
   "metadata": {},
   "outputs": [],
   "source": [
    "ion_pattern = r\"^\\[[^\\]]+[+-]\\]$\""
   ]
  },
  {
   "cell_type": "code",
   "execution_count": 73,
   "metadata": {},
   "outputs": [],
   "source": [
    "llm_results = {}       \n",
    "llm_results_MaxFrag = {}\n",
    "for i, predictions in enumerate(llm_output):\n",
    "    MaxFrags = []\n",
    "    llm_results[i] = ['.'.join([tmp for tmp in p if not bool(re.match(ion_pattern, tmp))]) for p in predictions] # remove ions/reagents\n",
    "    for p in llm_results[i]:\n",
    "        if p not in MaxFrags:\n",
    "            MaxFrags.append(get_MaxFrag(p))\n",
    "    llm_results_MaxFrag[i] = MaxFrags"
   ]
  },
  {
   "cell_type": "code",
   "execution_count": 74,
   "metadata": {},
   "outputs": [
    {
     "data": {
      "text/plain": [
       "[['CCOC(=O)c1nn(-c2ccc(Cl)cc2Cl)c(-c2ccc(OC)cc2)c1CO',\n",
       "  'Cc1ccccc1',\n",
       "  'O=C([O-])O',\n",
       "  'O=P(Br)(Br)Br',\n",
       "  '[Na+]'],\n",
       " ['CCOC(=O)c1nn(-c2ccc(Cl)cc2Cl)c(-c2ccc(OC)cc2)c1CO',\n",
       "  'ClC(Cl)(Cl)Cl',\n",
       "  'O',\n",
       "  'O=C1CCC(=O)N1Br'],\n",
       " ['CCOC(=O)c1nn(-c2ccc(Cl)cc2Cl)c(-c2ccc(OC)cc2)c1C',\n",
       "  'ClC(Cl)(Cl)Cl',\n",
       "  'O=C1CCC(=O)N1Br'],\n",
       " ['CCOC(=O)c1nn(-c2ccc(Cl)cc2Cl)c(-c2ccc(OC)cc2)c1C',\n",
       "  'ClC(Cl)(Cl)Cl',\n",
       "  'O',\n",
       "  'O=C1CCC(=O)N1Br'],\n",
       " ['CCOC(=O)c1nn(-c2ccc(Cl)cc2Cl)c(-c2ccc(OC)cc2)c1CO',\n",
       "  'ClC(Cl)(Cl)Cl',\n",
       "  'O=C(OOC(=O)c1ccccc1)c1ccccc1',\n",
       "  'O=C1CCC(=O)N1Br']]"
      ]
     },
     "execution_count": 74,
     "metadata": {},
     "output_type": "execute_result"
    }
   ],
   "source": [
    "llm_output[2]"
   ]
  },
  {
   "cell_type": "code",
   "execution_count": 75,
   "metadata": {},
   "outputs": [
    {
     "data": {
      "text/plain": [
       "['CCOC(=O)c1nn(-c2ccc(Cl)cc2Cl)c(-c2ccc(OC)cc2)c1CO.Cc1ccccc1.O=C([O-])O.O=P(Br)(Br)Br',\n",
       " 'CCOC(=O)c1nn(-c2ccc(Cl)cc2Cl)c(-c2ccc(OC)cc2)c1CO.ClC(Cl)(Cl)Cl.O.O=C1CCC(=O)N1Br',\n",
       " 'CCOC(=O)c1nn(-c2ccc(Cl)cc2Cl)c(-c2ccc(OC)cc2)c1C.ClC(Cl)(Cl)Cl.O=C1CCC(=O)N1Br',\n",
       " 'CCOC(=O)c1nn(-c2ccc(Cl)cc2Cl)c(-c2ccc(OC)cc2)c1C.ClC(Cl)(Cl)Cl.O.O=C1CCC(=O)N1Br',\n",
       " 'CCOC(=O)c1nn(-c2ccc(Cl)cc2Cl)c(-c2ccc(OC)cc2)c1CO.ClC(Cl)(Cl)Cl.O=C(OOC(=O)c1ccccc1)c1ccccc1.O=C1CCC(=O)N1Br']"
      ]
     },
     "execution_count": 75,
     "metadata": {},
     "output_type": "execute_result"
    }
   ],
   "source": [
    "llm_results[2]"
   ]
  },
  {
   "cell_type": "code",
   "execution_count": 76,
   "metadata": {},
   "outputs": [
    {
     "name": "stdout",
     "output_type": "stream",
     "text": [
      "Calculating accuracy... 900/1000"
     ]
    }
   ],
   "source": [
    "stereo_aware = False\n",
    "\n",
    "Exact_matches = []\n",
    "MaxFrag_matches = [] # Only compares the largest reactant fragment\n",
    "\n",
    "Exact_matches_multi = []\n",
    "MaxFrag_matches_multi = [] \n",
    "for i in range(len(llm_results)):\n",
    "    if stereo_aware:\n",
    "        metric = isomer_match\n",
    "    else:\n",
    "        metric = exact_match\n",
    "    match_exact = metric(llm_results[i], ground_truth[i])\n",
    "    match_maxfrag = metric(llm_results_MaxFrag[i], ground_truth_MaxFrag[i])\n",
    "    if len(rxn_ps[i].split('.')) > 1:\n",
    "        Exact_matches_multi.append(match_exact)\n",
    "        MaxFrag_matches_multi.append(match_maxfrag)\n",
    "    Exact_matches.append(match_exact)\n",
    "    MaxFrag_matches.append(match_maxfrag)\n",
    "    if i % 100 == 0:\n",
    "        print ('\\rCalculating accuracy... %s/%s' % (i, len(llm_results)), end='', flush=True)"
   ]
  },
  {
   "cell_type": "code",
   "execution_count": 77,
   "metadata": {},
   "outputs": [
    {
     "name": "stdout",
     "output_type": "stream",
     "text": [
      "1000\n",
      "Top-1 Exact accuracy: 0.024, MaxFrag accuracy: 0.195\n",
      "Top-3 Exact accuracy: 0.043, MaxFrag accuracy: 0.324\n",
      "Top-5 Exact accuracy: 0.052, MaxFrag accuracy: 0.360\n"
     ]
    }
   ],
   "source": [
    "ks = [1, 3, 5]\n",
    "exact_k = {k:0 for k in ks}\n",
    "MaxFrag_k = {k:0 for k in ks}\n",
    "\n",
    "print(len(Exact_matches))\n",
    "for i in range(len(Exact_matches)):\n",
    "    for k in ks:\n",
    "        if Exact_matches[i] <= k and Exact_matches[i] != -1:\n",
    "            exact_k[k] += 1\n",
    "        if MaxFrag_matches[i] <= k and MaxFrag_matches[i] != -1:\n",
    "            MaxFrag_k[k] += 1\n",
    "\n",
    "for k in ks:\n",
    "    print ('Top-%d Exact accuracy: %.3f, MaxFrag accuracy: %.3f' % (k, exact_k[k]/len(Exact_matches), MaxFrag_k[k]/len(MaxFrag_matches)))"
   ]
  },
  {
   "cell_type": "code",
   "execution_count": 78,
   "metadata": {},
   "outputs": [
    {
     "name": "stdout",
     "output_type": "stream",
     "text": [
      "Calculating accuracy... 900/1000"
     ]
    }
   ],
   "source": [
    "stereo_aware = True\n",
    "\n",
    "Exact_matches = []\n",
    "MaxFrag_matches = [] # Only compares the largest reactant fragment\n",
    "\n",
    "Exact_matches_multi = []\n",
    "MaxFrag_matches_multi = [] \n",
    "for i in range(len(llm_results)):\n",
    "    if stereo_aware:\n",
    "        metric = isomer_match\n",
    "    else:\n",
    "        metric = exact_match\n",
    "    match_exact = metric(llm_results[i], ground_truth[i])\n",
    "    match_maxfrag = metric(llm_results_MaxFrag[i], ground_truth_MaxFrag[i])\n",
    "    if len(rxn_ps[i].split('.')) > 1:\n",
    "        Exact_matches_multi.append(match_exact)\n",
    "        MaxFrag_matches_multi.append(match_maxfrag)\n",
    "    Exact_matches.append(match_exact)\n",
    "    MaxFrag_matches.append(match_maxfrag)\n",
    "    if i % 100 == 0:\n",
    "        print ('\\rCalculating accuracy... %s/%s' % (i, len(llm_results)), end='', flush=True)"
   ]
  },
  {
   "cell_type": "code",
   "execution_count": 79,
   "metadata": {},
   "outputs": [
    {
     "name": "stdout",
     "output_type": "stream",
     "text": [
      "1000\n",
      "Top-1 Exact accuracy: 0.026, MaxFrag accuracy: 0.205\n",
      "Top-3 Exact accuracy: 0.048, MaxFrag accuracy: 0.344\n",
      "Top-5 Exact accuracy: 0.061, MaxFrag accuracy: 0.388\n"
     ]
    }
   ],
   "source": [
    "# Stereo-aware\n",
    "ks = [1, 3, 5]\n",
    "exact_k = {k:0 for k in ks}\n",
    "MaxFrag_k = {k:0 for k in ks}\n",
    "\n",
    "print(len(Exact_matches))\n",
    "for i in range(len(Exact_matches)):\n",
    "    for k in ks:\n",
    "        if Exact_matches[i] <= k and Exact_matches[i] != -1:\n",
    "            exact_k[k] += 1\n",
    "        if MaxFrag_matches[i] <= k and MaxFrag_matches[i] != -1:\n",
    "            MaxFrag_k[k] += 1\n",
    "\n",
    "for k in ks:\n",
    "    print ('Top-%d Exact accuracy: %.3f, MaxFrag accuracy: %.3f' % (k, exact_k[k]/len(Exact_matches), MaxFrag_k[k]/len(MaxFrag_matches)))"
   ]
  },
  {
   "cell_type": "code",
   "execution_count": null,
   "metadata": {},
   "outputs": [],
   "source": []
  }
 ],
 "metadata": {
  "kernelspec": {
   "display_name": "Python 3 (ipykernel)",
   "language": "python",
   "name": "python3"
  }
 },
 "nbformat": 4,
 "nbformat_minor": 4
}
