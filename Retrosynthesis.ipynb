{
 "cells": [
  {
   "cell_type": "code",
   "execution_count": 1,
   "metadata": {},
   "outputs": [],
   "source": [
    "import sys\n",
    "import os\n",
    "sys.path.append('/root/Projects/LocalRetro/scripts')\n",
    "sys.path.append('/root/Projects/LocalRetro')\n",
    "from Retrosynthesis import LocalRetro\n",
    "import torch\n",
    "import time\n",
    "import pickle\n",
    "from tqdm import tqdm\n",
    "import pandas as pd\n",
    "from LocalTemplate.template_decoder import *"
   ]
  },
  {
   "cell_type": "code",
   "execution_count": 2,
   "metadata": {},
   "outputs": [],
   "source": [
    "retro190_routes = pickle.load(open('/root/Projects/LLM4Retro/dataset/retro_190/routes_possible_test_hard.pkl', 'rb'))\n",
    "products, gt_reactants = [tmp[0].split(\">>\")[0] for tmp in retro190_routes], [tmp[0].split(\">>\")[1].split('.') for tmp in retro190_routes]"
   ]
  },
  {
   "cell_type": "markdown",
   "metadata": {},
   "source": [
    "## Run Retrosynthesis"
   ]
  },
  {
   "cell_type": "code",
   "execution_count": 4,
   "metadata": {},
   "outputs": [
    {
     "name": "stdout",
     "output_type": "stream",
     "text": [
      "Parameters of loaded LocalRetro:\n",
      "{'attention_heads': 8, 'attention_layers': 1, 'batch_size': 16, 'edge_hidden_feats': 64, 'node_out_feats': 320, 'num_step_message_passing': 6, 'activation': 'gelu', 'AtomTemplate_n': 124, 'BondTemplate_n': 548, 'in_node_feats': 80, 'in_edge_feats': 13}\n"
     ]
    }
   ],
   "source": [
    "# Load the model and necessary files for prediction decoding\n",
    "dataset = 'USPTO_50K' # USPTO_MIT or USPTO_50K\n",
    "device = torch.device('cuda:0') # cpu or cuda:0\n",
    "model_path = 'models/LocalRetro_%s.pth' % (dataset)\n",
    "config_path = 'data/configs/default_config.json'\n",
    "data_dir = 'data/%s' % dataset\n",
    "\n",
    "args = {'data_dir': data_dir, 'model_path': model_path, 'config_path': config_path, 'device': device}\n",
    "localretro = LocalRetro(args)"
   ]
  },
  {
   "cell_type": "code",
   "execution_count": 5,
   "metadata": {},
   "outputs": [],
   "source": [
    "test_file = pd.read_csv(f'{data_dir}/raw_test.csv')"
   ]
  },
  {
   "cell_type": "code",
   "execution_count": 6,
   "metadata": {},
   "outputs": [],
   "source": [
    "rxn_ps = [demap(Chem.MolFromSmiles(rxn.split('>>')[1])) for rxn in test_file['reactants>reagents>production']]"
   ]
  },
  {
   "cell_type": "code",
   "execution_count": 7,
   "metadata": {},
   "outputs": [],
   "source": [
    "ground_truth = [demap(Chem.MolFromSmiles(rxn.split('>>')[0])) for rxn in test_file['reactants>reagents>production']]"
   ]
  },
  {
   "cell_type": "code",
   "execution_count": 7,
   "metadata": {},
   "outputs": [],
   "source": [
    "class_given = False\n",
    "\n",
    "result_dir = 'outputs/decoded_prediction' \n",
    "if class_given:\n",
    "    result_dir += '_class'\n",
    "\n",
    "result_file = '%s/LocalRetro_%s.txt' % (result_dir, dataset)\n",
    "\n",
    "results = {}       \n",
    "results_MaxFrag = {}\n",
    "with open(result_file, 'r') as f:\n",
    "    for i, line in enumerate(f.readlines()):\n",
    "        line = line.split('\\n')[0]\n",
    "        i = int(line.split('\\t')[0])\n",
    "        predictions = line.split('\\t')[1:]\n",
    "        MaxFrags = []\n",
    "        results[i] = [eval(p)[0] for p in predictions]\n",
    "        for p in results[i]:\n",
    "            if p not in MaxFrags:\n",
    "                MaxFrags.append(get_MaxFrag(p))\n",
    "        results_MaxFrag[i] = MaxFrags"
   ]
  },
  {
   "cell_type": "code",
   "execution_count": 8,
   "metadata": {},
   "outputs": [
    {
     "data": {
      "text/plain": [
       "(5007, 5007)"
      ]
     },
     "execution_count": 8,
     "metadata": {},
     "output_type": "execute_result"
    }
   ],
   "source": [
    "len(list(results.keys())), len(rxn_ps)"
   ]
  },
  {
   "cell_type": "code",
   "execution_count": 8,
   "metadata": {},
   "outputs": [
    {
     "name": "stderr",
     "output_type": "stream",
     "text": [
      "  0%|                                                                                                                                                                      | 0/5007 [00:00<?, ?it/s]"
     ]
    },
    {
     "name": "stderr",
     "output_type": "stream",
     "text": [
      "  2%|██▍                                                                                                                                                          | 77/5007 [00:18<12:06,  6.79it/s]"
     ]
    }
   ],
   "source": [
    "pred_reactants = []\n",
    "for prod in tqdm(rxn_ps):\n",
    "    pred_reactants.append([tmp.split(\".\") for tmp in localretro.retrosnythesis(prod,top_k=5)['SMILES'].tolist()])"
   ]
  },
  {
   "cell_type": "code",
   "execution_count": null,
   "metadata": {},
   "outputs": [
    {
     "data": {
      "text/plain": [
       "([['CC(=O)Cl', 'CC(C)(C)OC(=O)n1ccc2ccccc21'],\n",
       "  ['CC(=O)c1ccc2[nH]ccc2c1', 'CC(C)(C)OC(=O)OC(=O)OC(C)(C)C'],\n",
       "  ['CC(=O)c1ccc2c(ccn2C(=O)OC(C)(C)C)c1'],\n",
       "  ['CC(O)c1ccc2c(ccn2C(=O)OC(C)(C)C)c1'],\n",
       "  ['CON(C)C(=O)c1ccc2c(ccn2C(=O)OC(C)(C)C)c1', 'C[Mg+]']],\n",
       " ['CC(=O)c1ccc2[nH]ccc2c1', 'CC(C)(C)OC(=O)OC(=O)OC(C)(C)C'],\n",
       " 'CC(=O)c1ccc2c(ccn2C(=O)OC(C)(C)C)c1')"
      ]
     },
     "execution_count": 21,
     "metadata": {},
     "output_type": "execute_result"
    }
   ],
   "source": [
    "sorted(pred_reactants[0]), sorted(ground_truth[0].split('.')), rxn_ps[0]"
   ]
  },
  {
   "cell_type": "code",
   "execution_count": null,
   "metadata": {},
   "outputs": [
    {
     "data": {
      "text/plain": [
       "0.8434192131016577"
      ]
     },
     "execution_count": 22,
     "metadata": {},
     "output_type": "execute_result"
    }
   ],
   "source": [
    "sum([sorted(ground_truth[i].split('.')) in sorted(pred_reactants[i]) for i in range(len(pred_reactants))]) / len(pred_reactants)"
   ]
  },
  {
   "cell_type": "code",
   "execution_count": null,
   "metadata": {},
   "outputs": [],
   "source": [
    "import sys\n",
    "sys.path.insert(0, '/root/Projects/LLM4Retro')\n",
    "from chem_utils import *"
   ]
  },
  {
   "cell_type": "code",
   "execution_count": null,
   "metadata": {},
   "outputs": [
    {
     "ename": "NameError",
     "evalue": "name 'topk_rt_accuracy_moltransformer' is not defined",
     "output_type": "error",
     "traceback": [
      "\u001b[0;31m---------------------------------------------------------------------------\u001b[0m",
      "\u001b[0;31mNameError\u001b[0m                                 Traceback (most recent call last)",
      "Cell \u001b[0;32mIn[1], line 1\u001b[0m\n\u001b[0;32m----> 1\u001b[0m top_n_rt_accuracy \u001b[38;5;241m=\u001b[39m \u001b[43mtopk_rt_accuracy_moltransformer\u001b[49m(\n\u001b[1;32m      2\u001b[0m     pred_reactants,\n\u001b[1;32m      3\u001b[0m     rxn_ps,\n\u001b[1;32m      4\u001b[0m     \u001b[38;5;241m5\u001b[39m\n\u001b[1;32m      5\u001b[0m )\n",
      "\u001b[0;31mNameError\u001b[0m: name 'topk_rt_accuracy_moltransformer' is not defined"
     ]
    }
   ],
   "source": [
    "top_n_rt_accuracy = topk_rt_accuracy_moltransformer(\n",
    "    pred_reactants,\n",
    "    rxn_ps,\n",
    "    5\n",
    ")"
   ]
  },
  {
   "cell_type": "code",
   "execution_count": 13,
   "metadata": {},
   "outputs": [
    {
     "data": {
      "text/plain": [
       "[62.99181146395046,\n",
       " 95.46634711404035,\n",
       " 98.06271220291592,\n",
       " 98.52206910325543,\n",
       " 98.8615937687238]"
      ]
     },
     "execution_count": 13,
     "metadata": {},
     "output_type": "execute_result"
    }
   ],
   "source": [
    "top_n_rt_accuracy"
   ]
  },
  {
   "cell_type": "markdown",
   "metadata": {},
   "source": [
    "### Predict on Retro190 dataset"
   ]
  },
  {
   "cell_type": "code",
   "execution_count": null,
   "metadata": {},
   "outputs": [],
   "source": [
    "pred_reactants = []\n",
    "for prod in products:\n",
    "    pred_reactants.append([tmp.split(\".\") for tmp in localretro.retrosnythesis(prod,top_k=5)['SMILES'].tolist()])"
   ]
  },
  {
   "cell_type": "code",
   "execution_count": null,
   "metadata": {},
   "outputs": [
    {
     "data": {
      "text/plain": [
       "0.3894736842105263"
      ]
     },
     "execution_count": 84,
     "metadata": {},
     "output_type": "execute_result"
    }
   ],
   "source": [
    "sum([gt_reactants[i] in pred_reactants[i] for i in range(190)]) / 190"
   ]
  },
  {
   "cell_type": "code",
   "execution_count": 85,
   "metadata": {},
   "outputs": [],
   "source": [
    "pickle.dump(pred_reactants, open('retro190_pred_reactants.pkl', 'wb+'))"
   ]
  },
  {
   "cell_type": "markdown",
   "metadata": {},
   "source": [
    "## Predict Round-trip accuracy"
   ]
  },
  {
   "cell_type": "code",
   "execution_count": 23,
   "metadata": {},
   "outputs": [],
   "source": [
    "def unflatten_list(flat_list, chunk_size):\n",
    "    return [flat_list[i:i + chunk_size] for i in range(0, len(flat_list), chunk_size)]"
   ]
  },
  {
   "cell_type": "code",
   "execution_count": 24,
   "metadata": {},
   "outputs": [],
   "source": [
    "def canocialize_smiles(smi):\n",
    "    mol = Chem.MolFromSmiles(smi)\n",
    "    if mol:\n",
    "        return Chem.MolToSmiles(mol)\n",
    "    else:\n",
    "        return \"\""
   ]
  },
  {
   "cell_type": "code",
   "execution_count": 25,
   "metadata": {},
   "outputs": [],
   "source": [
    "def calculate_top_n_round_trip_accuracy(original_input, output, n):\n",
    "    num_samples = len(original_input)\n",
    "    rt_cnt = [0] * n\n",
    "    for i in range(num_samples):\n",
    "        fwd_idx, retro_idx = n, n\n",
    "        original = canocialize_smiles(original_input[i])\n",
    "        predicted = output[i][:n]\n",
    "        for idx, cur_chunk in enumerate(predicted):\n",
    "            cur_chunk = [canocialize_smiles(tmp.strip().replace(\" \", \"\")) for tmp in cur_chunk]\n",
    "            if original in cur_chunk:\n",
    "                # print(f\"Found in {idx} row at {cur_chunk.index(original)} col\")\n",
    "                # print(fwd_idx, retro_idx)\n",
    "                fwd_idx = min(fwd_idx, cur_chunk.index(original))\n",
    "                retro_idx = min(idx, retro_idx)\n",
    "                # print(fwd_idx, retro_idx, \"\\n\")\n",
    "            else:\n",
    "                # print(f\"Not found at {idx}th row\\n\")\n",
    "                pass\n",
    "        k = max(fwd_idx, retro_idx)\n",
    "        if k <= n:\n",
    "            rt_cnt[k:] = [tmp+1 for tmp in rt_cnt[k:]]\n",
    "    top_n_round_trip_accuracy = [(tmp / num_samples) * 100 for tmp in rt_cnt]\n",
    "    return top_n_round_trip_accuracy"
   ]
  },
  {
   "cell_type": "markdown",
   "metadata": {},
   "source": [
    "### On Local Retro"
   ]
  },
  {
   "cell_type": "code",
   "execution_count": 6,
   "metadata": {},
   "outputs": [],
   "source": [
    "pred_reactants = pickle.load(open('/root/Projects/LocalRetro/retro190_pred_reactants.pkl', 'rb+'))"
   ]
  },
  {
   "cell_type": "code",
   "execution_count": 7,
   "metadata": {},
   "outputs": [],
   "source": [
    "with open('/root/Projects/LocalRetro/MolecularTransformer/flatten_retro190_pred_reactants_translated.txt', 'r') as file:\n",
    "    flatten_retro190_pred_reactants_translated = file.readlines()"
   ]
  },
  {
   "cell_type": "code",
   "execution_count": 8,
   "metadata": {},
   "outputs": [
    {
     "data": {
      "text/plain": [
       "['O = S ( = O ) ( c 1 c c ( C ( F ) ( F ) F ) c c c 1 Br ) C 1 C C C ( c 2 c c c ( Cl ) c c 2 ) C 1\\n',\n",
       " 'O = S ( = O ) ( c 1 c c ( C ( F ) ( F ) F ) c c c 1 Br ) C 1 C C O C ( c 2 c c c ( Cl ) c c 2 ) C 1\\n',\n",
       " 'O = S ( = O ) ( c 1 c c ( C ( F ) ( F ) F ) c c c 1 Br ) [C@H] 1 C C [C@@H] ( c 2 c c c ( Cl ) c c 2 ) C 1\\n',\n",
       " 'O = S ( = O ) ( c 1 c c ( C ( F ) ( F ) F ) c c c 1 Br ) C 1 C C C ( = C c 2 c c c ( Cl ) c c 2 ) C 1\\n',\n",
       " 'N S ( = O ) ( = O ) c 1 c c c c c 1\\n']"
      ]
     },
     "execution_count": 8,
     "metadata": {},
     "output_type": "execute_result"
    }
   ],
   "source": [
    "unflatten_list(flatten_retro190_pred_reactants_translated, 5)[-190:][0]"
   ]
  },
  {
   "cell_type": "code",
   "execution_count": 9,
   "metadata": {},
   "outputs": [
    {
     "data": {
      "text/plain": [
       "1030"
      ]
     },
     "execution_count": 9,
     "metadata": {},
     "output_type": "execute_result"
    }
   ],
   "source": [
    "len([item for sublist in pred_reactants for item in sublist])"
   ]
  },
  {
   "cell_type": "code",
   "execution_count": 10,
   "metadata": {},
   "outputs": [],
   "source": [
    "retro190_pred_prod = []\n",
    "idx = 0\n",
    "unflatten_retro190_pred_reactants_translated = unflatten_list(flatten_retro190_pred_reactants_translated, 5)\n",
    "for i in range(len(pred_reactants)):\n",
    "    cur = [tmp for tmp in unflatten_retro190_pred_reactants_translated[idx:idx+len(pred_reactants[i])]]\n",
    "    idx += len(pred_reactants[i])\n",
    "    retro190_pred_prod.append(cur)"
   ]
  },
  {
   "cell_type": "code",
   "execution_count": 18,
   "metadata": {},
   "outputs": [
    {
     "data": {
      "text/plain": [
       "190"
      ]
     },
     "execution_count": 18,
     "metadata": {},
     "output_type": "execute_result"
    }
   ],
   "source": [
    "len(retro190_pred_prod)"
   ]
  },
  {
   "cell_type": "code",
   "execution_count": 11,
   "metadata": {},
   "outputs": [
    {
     "data": {
      "text/plain": [
       "[62.63157894736842,\n",
       " 91.05263157894737,\n",
       " 95.78947368421052,\n",
       " 96.84210526315789,\n",
       " 97.36842105263158]"
      ]
     },
     "execution_count": 11,
     "metadata": {},
     "output_type": "execute_result"
    }
   ],
   "source": [
    "top_n = 5  # specify the value of n\n",
    "top_n_round_trip_accuracy = calculate_top_n_round_trip_accuracy(products, retro190_pred_prod, top_n)\n",
    "top_n_round_trip_accuracy"
   ]
  },
  {
   "cell_type": "markdown",
   "metadata": {},
   "source": [
    "### On LLM output"
   ]
  },
  {
   "cell_type": "code",
   "execution_count": 12,
   "metadata": {},
   "outputs": [],
   "source": [
    "agent_preds = pickle.load(open(\"/root/Projects/LLM4Retro/agent_output_test_512max_clean.pkl\", 'rb'))"
   ]
  },
  {
   "cell_type": "code",
   "execution_count": 13,
   "metadata": {},
   "outputs": [],
   "source": [
    "with open('/root/Projects/LocalRetro/MolecularTransformer/flatten_agent_pred_products.txt', 'r') as file:\n",
    "    flatten_agent_pred_prod = file.readlines()"
   ]
  },
  {
   "cell_type": "code",
   "execution_count": 14,
   "metadata": {},
   "outputs": [],
   "source": [
    "agent_pred_prod = []\n",
    "idx = 0\n",
    "unflatten_agent_pred_prod = unflatten_list(flatten_agent_pred_prod, 5)\n",
    "for i in range(len(agent_preds)):\n",
    "    cur = [tmp for tmp in unflatten_agent_pred_prod[idx:idx+len(agent_preds[i])]]\n",
    "    idx += len(agent_preds[i])\n",
    "    agent_pred_prod.append(cur)"
   ]
  },
  {
   "cell_type": "code",
   "execution_count": 15,
   "metadata": {},
   "outputs": [
    {
     "data": {
      "text/plain": [
       "[33.68421052631579,\n",
       " 51.578947368421055,\n",
       " 62.63157894736842,\n",
       " 68.94736842105263,\n",
       " 73.15789473684211]"
      ]
     },
     "execution_count": 15,
     "metadata": {},
     "output_type": "execute_result"
    }
   ],
   "source": [
    "calculate_top_n_round_trip_accuracy(products, agent_pred_prod, 5)"
   ]
  },
  {
   "cell_type": "code",
   "execution_count": null,
   "metadata": {},
   "outputs": [],
   "source": []
  }
 ],
 "metadata": {
  "kernelspec": {
   "display_name": "Python 3 (ipykernel)",
   "language": "python",
   "name": "python3"
  },
  "language_info": {
   "codemirror_mode": {
    "name": "ipython",
    "version": 3
   },
   "file_extension": ".py",
   "mimetype": "text/x-python",
   "name": "python",
   "nbconvert_exporter": "python",
   "pygments_lexer": "ipython3",
   "version": "3.10.13"
  }
 },
 "nbformat": 4,
 "nbformat_minor": 4
}
